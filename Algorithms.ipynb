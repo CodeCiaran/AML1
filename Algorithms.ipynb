{
  "nbformat": 4,
  "nbformat_minor": 0,
  "metadata": {
    "colab": {
      "name": "Algorithms.ipynb",
      "provenance": [],
      "collapsed_sections": []
    },
    "kernelspec": {
      "name": "python3",
      "display_name": "Python 3"
    },
    "language_info": {
      "name": "python"
    }
  },
  "cells": [
    {
      "cell_type": "markdown",
      "source": [
        "# **Imports**"
      ],
      "metadata": {
        "id": "XkXnYCPbQFjg"
      }
    },
    {
      "cell_type": "code",
      "execution_count": 1,
      "metadata": {
        "id": "MdXgv1osPmW2"
      },
      "outputs": [],
      "source": [
        "import numpy as np\n",
        "import pandas as pd\n",
        "import matplotlib.pyplot as plt\n",
        "plt.rcParams[\"figure.figsize\"] = (10,10)\n",
        "from sklearn import preprocessing\n",
        "import math\n",
        "\n",
        "from sklearn.linear_model import LinearRegression\n",
        "from sklearn.linear_model import LogisticRegression\n",
        "from sklearn.tree import DecisionTreeClassifier\n",
        "from sklearn import tree\n",
        "from sklearn.neighbors import KNeighborsClassifier\n",
        "from sklearn.naive_bayes import GaussianNB\n",
        "\n",
        "import tensorflow as tf\n",
        "from tensorflow import keras\n",
        "from tensorflow.keras.models import Sequential\n",
        "from tensorflow.keras.layers import Dense"
      ]
    },
    {
      "cell_type": "markdown",
      "source": [
        "# **Data Pre-Processing**"
      ],
      "metadata": {
        "id": "lGRfuwgnRgMv"
      }
    },
    {
      "cell_type": "code",
      "source": [
        "data = pd.read_csv(\"weather.csv\")\n",
        "\n",
        "print(\"\\n\\nRaw Data\\n\\n\",data)\n",
        "\n",
        "\n",
        "\n",
        "data = data.apply(preprocessing.LabelEncoder().fit_transform)\n",
        "data.hist()\n",
        "print(data.describe())\n",
        "\"\"\"\n",
        "# per column in case some are some are not categorical \n",
        "\n",
        "labelencoder = preprocessing.LabelEncoder()\n",
        "data[\"outlook\"] = labelencoder.fit_transform(data[\"outlook\"])\n",
        "data[\"temp\"] = labelencoder.fit_transform(data[\"temp\"])\n",
        "data[\"humidity\"] = labelencoder.fit_transform(data[\"humidity\"])\n",
        "data[\"wind\"] = labelencoder.fit_transform(data[\"wind\"])\n",
        "data[\"play\"] = labelencoder.fit_transform(data[\"play\"])\n",
        "\"\"\"\n",
        "\n",
        "print(\"\\n\\nPreprocessed Data\\n\\n\",data)\n",
        "\n",
        "array = data.values\n",
        "attributes = array[:,0:4]\n",
        "classValues = array[:,4]\n"
      ],
      "metadata": {
        "colab": {
          "base_uri": "https://localhost:8080/",
          "height": 1000
        },
        "id": "FRwwOmw4ReGW",
        "outputId": "00f63212-f0ef-48c0-d970-603e28e7019a"
      },
      "execution_count": 8,
      "outputs": [
        {
          "output_type": "stream",
          "name": "stdout",
          "text": [
            "\n",
            "\n",
            "Raw Data\n",
            "\n",
            "               @relation weather Unnamed: 1 Unnamed: 2 Unnamed: 3 Unnamed: 4\n",
            "0                           NaN        NaN        NaN        NaN        NaN\n",
            "1     @attribute outlook {sunny   overcast     rainy}        NaN        NaN\n",
            "2   @attribute temperature real        NaN        NaN        NaN        NaN\n",
            "3      @attribute humidity real        NaN        NaN        NaN        NaN\n",
            "4        @attribute windy {TRUE     FALSE}        NaN        NaN        NaN\n",
            "5          @attribute play {yes        no}        NaN        NaN        NaN\n",
            "6                           NaN        NaN        NaN        NaN        NaN\n",
            "7                         @data        NaN        NaN        NaN        NaN\n",
            "8                         sunny         85         85      False         no\n",
            "9                         sunny         80         90       True         no\n",
            "10                     overcast         83         86      False        yes\n",
            "11                        rainy         70         96      False        yes\n",
            "12                        rainy         68         80      False        yes\n",
            "13                        rainy         65         70       True         no\n",
            "14                     overcast         64         65       True        yes\n",
            "15                        sunny         72         95      False         no\n",
            "16                        sunny         69         70      False        yes\n",
            "17                        rainy         75         80      False        yes\n",
            "18                        sunny         75         70       True        yes\n",
            "19                     overcast         72         90       True        yes\n",
            "20                     overcast         81         75      False        yes\n",
            "21                        rainy         71         91       True         no\n",
            "       @relation weather  Unnamed: 1  Unnamed: 2  Unnamed: 3  Unnamed: 4\n",
            "count          22.000000   22.000000   22.000000   22.000000   22.000000\n",
            "mean            6.000000    9.045455    6.681818    1.000000    1.136364\n",
            "std             2.526055    4.980699    3.920476    0.872872    0.774317\n",
            "min             0.000000    0.000000    0.000000    0.000000    0.000000\n",
            "25%             5.250000    5.250000    3.250000    0.000000    1.000000\n",
            "50%             7.000000    9.500000    7.000000    1.000000    1.000000\n",
            "75%             8.000000   13.750000   11.000000    2.000000    2.000000\n",
            "max             9.000000   15.000000   11.000000    2.000000    2.000000\n",
            "\n",
            "\n",
            "Preprocessed Data\n",
            "\n",
            "     @relation weather  Unnamed: 1  Unnamed: 2  Unnamed: 3  Unnamed: 4\n",
            "0                   9          15          11           2           2\n",
            "1                   1           2           0           2           2\n",
            "2                   3          15          11           2           2\n",
            "3                   0          15          11           2           2\n",
            "4                   4           0          11           2           2\n",
            "5                   2           1          11           2           2\n",
            "6                   9          15          11           2           2\n",
            "7                   5          15          11           2           2\n",
            "8                   8          14           5           0           0\n",
            "9                   8          11           7           1           0\n",
            "10                  6          13           6           0           1\n",
            "11                  7           7          10           0           1\n",
            "12                  7           5           4           0           1\n",
            "13                  7           4           2           1           0\n",
            "14                  6           3           1           1           1\n",
            "15                  8           9           9           0           0\n",
            "16                  8           6           2           0           1\n",
            "17                  7          10           4           0           1\n",
            "18                  8          10           2           1           1\n",
            "19                  6           9           7           1           1\n",
            "20                  6          12           3           0           1\n",
            "21                  7           8           8           1           0\n"
          ]
        },
        {
          "output_type": "display_data",
          "data": {
            "image/png": "[encoded data removed]",
            "text/plain": [
              "<Figure size 432x288 with 6 Axes>"
            ]
          },
          "metadata": {
            "needs_background": "light"
          }
        }
      ]
    },
    {
      "cell_type": "markdown",
      "source": [
        "# **Linear Regression**"
      ],
      "metadata": {
        "id": "bRIc5s-dRowD"
      }
    },
    {
      "cell_type": "code",
      "source": [
        "model = LinearRegression()\n",
        "\n",
        "model.fit(attributes,classValues)\n",
        "\n",
        "results = model.score(attributes,classValues)\n",
        "\n",
        "\n",
        "# That is trained, lets make some predictions!\n",
        "print()\n",
        "unsceen1 = [[2,1,0,1]]\n",
        "result1 = model.predict(unsceen1)\n",
        "print(result1[0])\n",
        "\n",
        "print()\n",
        "unsceen2 = [[0,1,0,1]]\n",
        "result2 = model.predict(unsceen2)\n",
        "print(result2[0])\n",
        "\n",
        "\n",
        "# for humans using the method from Andrew NG converting it to a classification algorithm!\n",
        "print()\n",
        "print()\n",
        "if result1[0] < 0.5:\n",
        "    print(\"Do not play\")\n",
        "else:\n",
        "    print(\"Play\")\n",
        "    \n",
        "    \n",
        "if result2[0] < 0.5:\n",
        "    print(\"Do not play\")\n",
        "else:\n",
        "    print(\"Play\")"
      ],
      "metadata": {
        "colab": {
          "base_uri": "https://localhost:8080/"
        },
        "id": "vj7JNlK-RoRq",
        "outputId": "bfd8d136-ce61-4d88-dee7-662ce7ec44ac"
      },
      "execution_count": 9,
      "outputs": [
        {
          "output_type": "stream",
          "name": "stdout",
          "text": [
            "\n",
            "1.282567193305653\n",
            "\n",
            "1.4699123179970512\n",
            "\n",
            "\n",
            "Play\n",
            "Play\n"
          ]
        }
      ]
    },
    {
      "cell_type": "markdown",
      "source": [
        "# **Linear Regression in more detail:**"
      ],
      "metadata": {
        "id": "7pRTA732RyNf"
      }
    },
    {
      "cell_type": "code",
      "source": [
        "from IPython.display import Image\n",
        "Image(\"lr.png\", width = 600, height = 300)"
      ],
      "metadata": {
        "colab": {
          "base_uri": "https://localhost:8080/",
          "height": 317
        },
        "id": "i5y6xJiUR1cA",
        "outputId": "0e3146c1-3f0b-4c21-bffd-7778777ba670"
      },
      "execution_count": 10,
      "outputs": [
        {
          "output_type": "execute_result",
          "data": {
            "image/png": "lr.png",
            "text/plain": [
              "<IPython.core.display.Image object>"
            ]
          },
          "metadata": {
            "image/png": {
              "width": 600,
              "height": 300
            }
          },
          "execution_count": 10
        }
      ]
    },
    {
      "cell_type": "code",
      "source": [
        "from IPython.display import Image\n",
        "Image(\"mse.png\", width = 900, height = 450)"
      ],
      "metadata": {
        "colab": {
          "base_uri": "https://localhost:8080/",
          "height": 487
        },
        "id": "POMRjrT9R45p",
        "outputId": "43dcb6de-183c-4ff0-9ed5-417272ad657e"
      },
      "execution_count": 11,
      "outputs": [
        {
          "output_type": "execute_result",
          "data": {
            "image/png": "mse.png",
            "text/plain": [
              "<IPython.core.display.Image object>"
            ]
          },
          "metadata": {
            "image/png": {
              "width": 900,
              "height": 450
            }
          },
          "execution_count": 11
        }
      ]
    },
    {
      "cell_type": "code",
      "source": [
        "from IPython.display import Image\n",
        "Image(\"gradientDescent.jpg\", width = 900, height = 450)"
      ],
      "metadata": {
        "colab": {
          "base_uri": "https://localhost:8080/",
          "height": 487
        },
        "id": "z9W1CDQrSCTk",
        "outputId": "bc514cb2-8fc1-448d-9ade-b2b73321a22f"
      },
      "execution_count": 12,
      "outputs": [
        {
          "output_type": "execute_result",
          "data": {
            "image/png": "gradientDescent.jpg",
            "text/plain": [
              "<IPython.core.display.Image object>"
            ]
          },
          "metadata": {
            "image/png": {
              "width": 900,
              "height": 450
            }
          },
          "execution_count": 12
        }
      ]
    },
    {
      "cell_type": "markdown",
      "source": [
        "A cost function determines how much error exists in a model. This allows us to then adjust the parameters (Intercept and Coefficient).\n",
        "\n",
        "In Linear Regression, Mean Squared Error (MSE) cost function is used, which is the average of squared error that occurred between the predicted values and actual values.\n",
        "\n",
        "By simple linear equation y=mx+b we can calculate MSE as (Where: y = actual values, yi = predicted values):"
      ],
      "metadata": {
        "id": "BkJIcL7RR_m0"
      }
    },
    {
      "cell_type": "markdown",
      "source": [
        "# **Linear Regression - Once Trained**"
      ],
      "metadata": {
        "id": "hkxZhJPYSKIG"
      }
    },
    {
      "cell_type": "code",
      "source": [
        "print(\"Performance (R squared):\" , round(results,4))\n",
        "print()\n",
        "\n",
        "# LR Intercept (C)\n",
        "print(\"Intercept:\", model.intercept_)\n",
        "\n",
        "# LR Slope (M) one for each parameter\n",
        "print(\"Slope    :\", model.coef_)\n",
        "\n",
        "print()\n",
        "\n",
        "print(\"Attribute 1: y =\", round(model.intercept_,2),\"+\", str(round(model.coef_[0],2))+\"x\")\n",
        "print(\"Attribute 2: y =\", round(model.intercept_,2),\"+\", str(round(model.coef_[1],2))+\"x\")\n",
        "print(\"Attribute 3: y =\", round(model.intercept_,2),\"+\", str(round(model.coef_[2],2))+\"x\")\n",
        "print(\"Attribute 4: y =\", round(model.intercept_,2),\"+\", str(round(model.coef_[3],2))+\"x\")\n",
        "\n",
        "# Plotting each line:\n",
        "att = 1\n",
        "x = np.linspace(-2,2,100)\n",
        "\n",
        "plt.title(\"Linear Regression for each of the four attributes\")\n",
        "for coef in model.coef_:   \n",
        "    y = coef*x+model.intercept_\n",
        "    name = \"Attribute \" + str(att)\n",
        "    plt.plot(x, y, label=name)\n",
        "    att += 1\n",
        "plt.grid()\n",
        "plt.legend()\n",
        "plt.show()"
      ],
      "metadata": {
        "colab": {
          "base_uri": "https://localhost:8080/",
          "height": 437
        },
        "id": "9AfOUo5xSHX0",
        "outputId": "5f8b94bb-96a6-4116-8557-5a2d726f53cf"
      },
      "execution_count": 13,
      "outputs": [
        {
          "output_type": "stream",
          "name": "stdout",
          "text": [
            "Performance (R squared): 0.5665\n",
            "\n",
            "Intercept: 1.0127116508272722\n",
            "Slope    : [-0.09367256  0.01321456  0.01828387  0.4439861 ]\n",
            "\n",
            "Attribute 1: y = 1.01 + -0.09x\n",
            "Attribute 2: y = 1.01 + 0.01x\n",
            "Attribute 3: y = 1.01 + 0.02x\n",
            "Attribute 4: y = 1.01 + 0.44x\n"
          ]
        },
        {
          "output_type": "display_data",
          "data": {
            "image/png": "[encoded data removed]",
            "text/plain": [
              "<Figure size 432x288 with 1 Axes>"
            ]
          },
          "metadata": {
            "needs_background": "light"
          }
        }
      ]
    },
    {
      "cell_type": "code",
      "source": [
        "# Model prediction\n",
        "unsceen1 = [[2,1,0,1]]\n",
        "result1 = model.predict(unsceen1)\n",
        "print(\"y - Model generated:\\t\", result1[0])\n",
        "\n",
        "# Manual creation of prediction \n",
        "unsceenM = [2,1,0,1]\n",
        "y = model.intercept_ +  (model.coef_[0]*unsceenM[0]) + \\\n",
        "                        (model.coef_[1]*unsceenM[1]) + \\\n",
        "                        (model.coef_[2]*unsceenM[2]) + \\\n",
        "                        (model.coef_[3]*unsceenM[3])\n",
        "print(\"y - Manually generated:\\t\", y)"
      ],
      "metadata": {
        "colab": {
          "base_uri": "https://localhost:8080/"
        },
        "id": "Y3cm8Qg1STJK",
        "outputId": "af422e2b-df8c-4675-c19e-3832e2884497"
      },
      "execution_count": 14,
      "outputs": [
        {
          "output_type": "stream",
          "name": "stdout",
          "text": [
            "y - Model generated:\t 1.282567193305653\n",
            "y - Manually generated:\t 1.282567193305653\n"
          ]
        }
      ]
    },
    {
      "cell_type": "markdown",
      "source": [
        "# **Logistic Regression**"
      ],
      "metadata": {
        "id": "DiK7DnnzSZTM"
      }
    },
    {
      "cell_type": "code",
      "source": [
        "model = LogisticRegression()\n",
        "\n",
        "model.fit(attributes,classValues)\n",
        "\n",
        "results = model.score(attributes,classValues)\n",
        "\n",
        "\n",
        "print()\n",
        "unsceen1 = [[2,1,0,1]]\n",
        "result1 = model.predict(unsceen1)\n",
        "print(result1[0])\n",
        "\n",
        "print()\n",
        "unsceen2 = [[0,1,0,1]]\n",
        "result2 = model.predict(unsceen2)\n",
        "print(result2[0])\n",
        "\n",
        "\n",
        "# for humans!\n",
        "print()\n",
        "print()\n",
        "if result1[0] == 0:\n",
        "    print(\"Do not play\")\n",
        "else:\n",
        "    print(\"Play\")\n",
        "    \n",
        "    \n",
        "if result2[0] == 0:\n",
        "    print(\"Do not play\")\n",
        "else:\n",
        "    print(\"Play\")"
      ],
      "metadata": {
        "colab": {
          "base_uri": "https://localhost:8080/"
        },
        "id": "Uaov8TuOSage",
        "outputId": "83db4981-686f-4d99-f0c1-c645aa6546f2"
      },
      "execution_count": 15,
      "outputs": [
        {
          "output_type": "stream",
          "name": "stdout",
          "text": [
            "\n",
            "1\n",
            "\n",
            "1\n",
            "\n",
            "\n",
            "Play\n",
            "Play\n"
          ]
        }
      ]
    },
    {
      "cell_type": "markdown",
      "source": [
        "# **Logistic Regression - Once Trained**"
      ],
      "metadata": {
        "id": "28UsWfdISs7N"
      }
    },
    {
      "cell_type": "code",
      "source": [
        "print(\"Accuracy:\", round(results *100,4), \"%\")\n",
        "\n",
        "# intercept Bo\n",
        "print(\"Intercept Bo  :\", model.intercept_[0])\n",
        "\n",
        "# Coef one for each parameter\n",
        "print(\"Coef B1       :\", model.coef_[0])\n",
        "\n",
        "print()\n",
        "\n",
        "print(\"Attribute 1: h0(x) =\", \"1 / 1 + e-(\",round(model.intercept_[0],2),\"+\", str(round(model.coef_[0][0],2))+\"x)\")\n",
        "print(\"Attribute 2: h0(x) =\", \"1 / 1 + e-(\",round(model.intercept_[0],2),\"+\", str(round(model.coef_[0][1],2))+\"x)\")\n",
        "print(\"Attribute 3: h0(x) =\", \"1 / 1 + e-(\",round(model.intercept_[0],2),\"+\", str(round(model.coef_[0][2],2))+\"x)\")\n",
        "print(\"Attribute 4: h0(x) =\", \"1 / 1 + e-(\",round(model.intercept_[0],2),\"+\", str(round(model.coef_[0][3],2))+\"x)\")\n",
        "\n",
        "\n",
        "# Plotting each line:\n",
        "att = 1\n",
        "x = np.linspace(-10,10,100)\n",
        "\n",
        "plt.title(\"Logistic Regression for each of the four attributes\")\n",
        "for coef in model.coef_[0]:   \n",
        "    y = 1 / (1 + np.exp((coef*x)+model.intercept_))\n",
        "    name = \"Attribute \" + str(att)\n",
        "    plt.plot(x, y, label=name)\n",
        "    att += 1\n",
        "plt.grid()\n",
        "plt.legend()\n",
        "plt.show()"
      ],
      "metadata": {
        "colab": {
          "base_uri": "https://localhost:8080/",
          "height": 637
        },
        "id": "6vMg5AdUTCsF",
        "outputId": "6fde4530-7f8e-41d7-b74e-9b13c893939c"
      },
      "execution_count": 18,
      "outputs": [
        {
          "output_type": "stream",
          "name": "stdout",
          "text": [
            "Accuracy: 90.9091 %\n",
            "Intercept Bo  : -2.6452413521266673\n",
            "Coef B1       : [ 0.6393695  -0.10510932 -0.05091173 -0.26866412]\n",
            "\n",
            "Attribute 1: h0(x) = 1 / 1 + e-( -2.65 + 0.64x)\n",
            "Attribute 2: h0(x) = 1 / 1 + e-( -2.65 + -0.11x)\n",
            "Attribute 3: h0(x) = 1 / 1 + e-( -2.65 + -0.05x)\n",
            "Attribute 4: h0(x) = 1 / 1 + e-( -2.65 + -0.27x)\n"
          ]
        },
        {
          "output_type": "error",
          "ename": "ValueError",
          "evalue": "ignored",
          "traceback": [
            "\u001b[0;31m---------------------------------------------------------------------------\u001b[0m",
            "\u001b[0;31mValueError\u001b[0m                                Traceback (most recent call last)",
            "\u001b[0;32m<ipython-input-18-1486e182c5d0>\u001b[0m in \u001b[0;36m<module>\u001b[0;34m()\u001b[0m\n\u001b[1;32m     21\u001b[0m \u001b[0mplt\u001b[0m\u001b[0;34m.\u001b[0m\u001b[0mtitle\u001b[0m\u001b[0;34m(\u001b[0m\u001b[0;34m\"Logistic Regression for each of the four attributes\"\u001b[0m\u001b[0;34m)\u001b[0m\u001b[0;34m\u001b[0m\u001b[0;34m\u001b[0m\u001b[0m\n\u001b[1;32m     22\u001b[0m \u001b[0;32mfor\u001b[0m \u001b[0mcoef\u001b[0m \u001b[0;32min\u001b[0m \u001b[0mmodel\u001b[0m\u001b[0;34m.\u001b[0m\u001b[0mcoef_\u001b[0m\u001b[0;34m[\u001b[0m\u001b[0;36m0\u001b[0m\u001b[0;34m]\u001b[0m\u001b[0;34m:\u001b[0m\u001b[0;34m\u001b[0m\u001b[0;34m\u001b[0m\u001b[0m\n\u001b[0;32m---> 23\u001b[0;31m     \u001b[0my\u001b[0m \u001b[0;34m=\u001b[0m \u001b[0;36m1\u001b[0m \u001b[0;34m/\u001b[0m \u001b[0;34m(\u001b[0m\u001b[0;36m1\u001b[0m \u001b[0;34m+\u001b[0m \u001b[0mnp\u001b[0m\u001b[0;34m.\u001b[0m\u001b[0mexp\u001b[0m\u001b[0;34m(\u001b[0m\u001b[0;34m(\u001b[0m\u001b[0mcoef\u001b[0m\u001b[0;34m*\u001b[0m\u001b[0mx\u001b[0m\u001b[0;34m)\u001b[0m\u001b[0;34m+\u001b[0m\u001b[0mmodel\u001b[0m\u001b[0;34m.\u001b[0m\u001b[0mintercept_\u001b[0m\u001b[0;34m)\u001b[0m\u001b[0;34m)\u001b[0m\u001b[0;34m\u001b[0m\u001b[0;34m\u001b[0m\u001b[0m\n\u001b[0m\u001b[1;32m     24\u001b[0m     \u001b[0mname\u001b[0m \u001b[0;34m=\u001b[0m \u001b[0;34m\"Attribute \"\u001b[0m \u001b[0;34m+\u001b[0m \u001b[0mstr\u001b[0m\u001b[0;34m(\u001b[0m\u001b[0matt\u001b[0m\u001b[0;34m)\u001b[0m\u001b[0;34m\u001b[0m\u001b[0;34m\u001b[0m\u001b[0m\n\u001b[1;32m     25\u001b[0m     \u001b[0mplt\u001b[0m\u001b[0;34m.\u001b[0m\u001b[0mplot\u001b[0m\u001b[0;34m(\u001b[0m\u001b[0mx\u001b[0m\u001b[0;34m,\u001b[0m \u001b[0my\u001b[0m\u001b[0;34m,\u001b[0m \u001b[0mlabel\u001b[0m\u001b[0;34m=\u001b[0m\u001b[0mname\u001b[0m\u001b[0;34m)\u001b[0m\u001b[0;34m\u001b[0m\u001b[0;34m\u001b[0m\u001b[0m\n",
            "\u001b[0;31mValueError\u001b[0m: operands could not be broadcast together with shapes (100,) (3,) "
          ]
        },
        {
          "output_type": "display_data",
          "data": {
            "image/png": "[encoded data removed]",
            "text/plain": [
              "<Figure size 432x288 with 1 Axes>"
            ]
          },
          "metadata": {
            "needs_background": "light"
          }
        }
      ]
    },
    {
      "cell_type": "code",
      "source": [
        "print()\n",
        "unsceen1 = [[2,1,0,1]]\n",
        "result1 = model.predict_proba(unsceen1)\n",
        "print(\"SKLearn:  \", result1[0])\n",
        "\n",
        "#manual\n",
        "unsceenM = [2,1,0,1]\n",
        "y = 1 / (1 + math.exp(model.intercept_[0] + (model.coef_[0][0]*unsceenM[0]) + (model.coef_[0][1]*unsceenM[1]) + (model.coef_[0][2]*unsceenM[2]) + (model.coef_[0][3]*unsceenM[3])          ))\n",
        "print(\"Manual :   [\" +str(round(y,8)) +\" \"+ str(round(1-y,8)) +\"]\")"
      ],
      "metadata": {
        "colab": {
          "base_uri": "https://localhost:8080/"
        },
        "id": "PAeNRDDPTLxS",
        "outputId": "ac776f99-1112-476d-a821-4562eb4e3b6e"
      },
      "execution_count": 19,
      "outputs": [
        {
          "output_type": "stream",
          "name": "stdout",
          "text": [
            "\n",
            "SKLearn:   [0.01929274 0.90454611 0.07616115]\n",
            "Manual :   [0.85072209 0.14927791]\n"
          ]
        }
      ]
    },
    {
      "cell_type": "markdown",
      "source": [
        "# **KNN**"
      ],
      "metadata": {
        "id": "ye3p3oZMTRMS"
      }
    },
    {
      "cell_type": "code",
      "source": [
        "model = KNeighborsClassifier(n_neighbors=3, p = 2)\n",
        "\n",
        "model.fit(attributes,classValues)\n",
        "\n",
        "results = model.score(attributes,classValues)\n",
        "\n",
        "\n",
        "print()\n",
        "unsceen1 = [[2,1,0,1]]\n",
        "result1 = model.predict(unsceen1)\n",
        "print(result1[0])\n",
        "\n",
        "print()\n",
        "unsceen2 = [[0,1,0,1]]\n",
        "result2 = model.predict(unsceen2)\n",
        "print(result2[0])\n",
        "\n",
        "\n",
        "# for humans!\n",
        "print()\n",
        "print()\n",
        "if result1[0] == 0:\n",
        "    print(\"Do not play\")\n",
        "else:\n",
        "    print(\"Play\")\n",
        "    \n",
        "    \n",
        "if result2[0] == 0:\n",
        "    print(\"Do not play\")\n",
        "else:\n",
        "    print(\"Play\")"
      ],
      "metadata": {
        "colab": {
          "base_uri": "https://localhost:8080/"
        },
        "id": "8L244BNKTSrS",
        "outputId": "0882e235-d4cd-4666-e3f0-15d2a021ed38"
      },
      "execution_count": 20,
      "outputs": [
        {
          "output_type": "stream",
          "name": "stdout",
          "text": [
            "\n",
            "0\n",
            "\n",
            "0\n",
            "\n",
            "\n",
            "Do not play\n",
            "Do not play\n"
          ]
        }
      ]
    },
    {
      "cell_type": "markdown",
      "source": [
        "Retreiving the nearest neighbours and their indices\n"
      ],
      "metadata": {
        "id": "lk3rlx1xTbRM"
      }
    },
    {
      "cell_type": "code",
      "source": [
        "distances, indices = model.kneighbors(unsceen1)\n",
        "print(\"Nearest Three Distances\")\n",
        "print(distances)\n",
        "print(\"\\nIndices of top Three\")\n",
        "print(indices)"
      ],
      "metadata": {
        "colab": {
          "base_uri": "https://localhost:8080/"
        },
        "id": "VNO-mT_pTZX0",
        "outputId": "9cddbb24-5f71-485c-93bd-e12aab52ce81"
      },
      "execution_count": 21,
      "outputs": [
        {
          "output_type": "stream",
          "name": "stdout",
          "text": [
            "Nearest Three Distances\n",
            "[[1.73205081 4.58257569 6.164414  ]]\n",
            "\n",
            "Indices of top Three\n",
            "[[ 1 14 13]]\n"
          ]
        }
      ]
    },
    {
      "cell_type": "markdown",
      "source": [
        "Elbow Method for Selection of K:\n"
      ],
      "metadata": {
        "id": "JbyAA59vTelO"
      }
    },
    {
      "cell_type": "code",
      "source": [
        "# elbow method\n",
        "accValues = []  \n",
        "for k in range(1,len(attributes),2): \n",
        "    model = KNeighborsClassifier(n_neighbors=k)\n",
        "    model.fit(attributes, classValues)\n",
        "    results = model.score(attributes, classValues)\n",
        "    accValues.append(results.mean())\n",
        "\n",
        "plt.plot(list(range(1,len(attributes),2)),accValues) \n",
        "plt.xlabel('Values of K') \n",
        "plt.ylabel('Accuracy') \n",
        "plt.title('The Elbow Method') \n",
        "plt.show()"
      ],
      "metadata": {
        "colab": {
          "base_uri": "https://localhost:8080/",
          "height": 295
        },
        "id": "_S-fyElMTgpu",
        "outputId": "38063fc6-4f7f-4501-c985-a72a86c1fee8"
      },
      "execution_count": 22,
      "outputs": [
        {
          "output_type": "display_data",
          "data": {
            "image/png": "[encoded data removed]",
            "text/plain": [
              "<Figure size 432x288 with 1 Axes>"
            ]
          },
          "metadata": {
            "needs_background": "light"
          }
        }
      ]
    },
    {
      "cell_type": "markdown",
      "source": [
        "# **Nieve Bayes**"
      ],
      "metadata": {
        "id": "c6Kf2jTDTkuY"
      }
    },
    {
      "cell_type": "code",
      "source": [
        "model = GaussianNB()\n",
        "\n",
        "model.fit(attributes,classValues)\n",
        "\n",
        "results = model.score(attributes,classValues)\n",
        "\n",
        "\n",
        "print()\n",
        "unsceen1 = [[2,1,0,1]]\n",
        "result1 = model.predict(unsceen1)\n",
        "print(result1[0])\n",
        "\n",
        "print()\n",
        "unsceen2 = [[0,1,0,1]]\n",
        "result2 = model.predict(unsceen2)\n",
        "print(result2[0])\n",
        "\n",
        "\n",
        "# for humans!\n",
        "print()\n",
        "print()\n",
        "if result1[0] == 0:\n",
        "    print(\"Do not play\")\n",
        "else:\n",
        "    print(\"Play\")\n",
        "    \n",
        "    \n",
        "if result2[0] == 0:\n",
        "    print(\"Do not play\")\n",
        "else:\n",
        "    print(\"Play\")"
      ],
      "metadata": {
        "colab": {
          "base_uri": "https://localhost:8080/"
        },
        "id": "hxBM8lAFTnCY",
        "outputId": "5b09e391-fc3c-4518-edfe-338bd3d5c346"
      },
      "execution_count": 23,
      "outputs": [
        {
          "output_type": "stream",
          "name": "stdout",
          "text": [
            "\n",
            "1\n",
            "\n",
            "1\n",
            "\n",
            "\n",
            "Play\n",
            "Play\n"
          ]
        }
      ]
    },
    {
      "cell_type": "markdown",
      "source": [
        "Both class values probabilities\n"
      ],
      "metadata": {
        "id": "fexoA-WSTyB-"
      }
    },
    {
      "cell_type": "code",
      "source": [
        "print(\"Unsceen 1\\n\")\n",
        "prob = model.predict_proba(unsceen1)\n",
        "# returns the prob for each class [0, 1]\n",
        "print(\"Predicted prob class 0:\",  prob[0][0])\n",
        "print(\"Predicted prob class 1:\",  prob[0][1])\n",
        "\n",
        "print(\"\\n\\nUnsceen 2\\n\")\n",
        "prob = model.predict_proba(unsceen2)\n",
        "# returns the prob for each class [0, 1]\n",
        "print(\"Predicted prob class 0:\",  prob[0][0])\n",
        "print(\"Predicted prob class 1:\",  prob[0][1])"
      ],
      "metadata": {
        "colab": {
          "base_uri": "https://localhost:8080/"
        },
        "id": "20zG1B4zTwPr",
        "outputId": "17c00bd3-a41c-462d-f4bd-0ff6df857504"
      },
      "execution_count": 24,
      "outputs": [
        {
          "output_type": "stream",
          "name": "stdout",
          "text": [
            "Unsceen 1\n",
            "\n",
            "Predicted prob class 0: 9.016448540967736e-22\n",
            "Predicted prob class 1: 1.0\n",
            "\n",
            "\n",
            "Unsceen 2\n",
            "\n",
            "Predicted prob class 0: 1.5806428451959759e-37\n",
            "Predicted prob class 1: 1.0\n"
          ]
        }
      ]
    },
    {
      "cell_type": "markdown",
      "source": [
        "# **Decision Tree**"
      ],
      "metadata": {
        "id": "kRhG8gx5T1Xw"
      }
    },
    {
      "cell_type": "code",
      "source": [
        "model = DecisionTreeClassifier()\n",
        "\n",
        "model.fit(attributes,classValues)\n",
        "\n",
        "results = model.score(attributes,classValues)\n",
        "\n",
        "\n",
        "print()\n",
        "unsceen1 = [[2,1,0,1]]\n",
        "result1 = model.predict(unsceen1)\n",
        "print(result1[0])\n",
        "\n",
        "print()\n",
        "unsceen2 = [[0,1,0,1]]\n",
        "result2 = model.predict(unsceen2)\n",
        "print(result2[0])\n",
        "\n",
        "\n",
        "# for humans!\n",
        "print()\n",
        "print()\n",
        "if result1[0] < 0.5:\n",
        "    print(\"Do not play\")\n",
        "else:\n",
        "    print(\"Play\")\n",
        "    \n",
        "    \n",
        "if result2[0] < 0.5:\n",
        "    print(\"Do not play\")\n",
        "else:\n",
        "    print(\"Play\")"
      ],
      "metadata": {
        "colab": {
          "base_uri": "https://localhost:8080/"
        },
        "id": "1CS7mqieT3kq",
        "outputId": "7de87f27-71ee-4f09-85da-79ceec224ead"
      },
      "execution_count": 25,
      "outputs": [
        {
          "output_type": "stream",
          "name": "stdout",
          "text": [
            "\n",
            "1\n",
            "\n",
            "1\n",
            "\n",
            "\n",
            "Play\n",
            "Play\n"
          ]
        }
      ]
    },
    {
      "cell_type": "code",
      "source": [
        "print(\"Accuracy:\", round(results *100,4), \"%\\n\\n\")\n",
        "\n",
        "# Visualise the tree\n",
        "text_representation = tree.export_text(model)\n",
        "print(text_representation)"
      ],
      "metadata": {
        "colab": {
          "base_uri": "https://localhost:8080/"
        },
        "id": "3VXuYrhVT_uU",
        "outputId": "6f583a20-f5bc-4a06-a84f-0913b304c0a2"
      },
      "execution_count": 26,
      "outputs": [
        {
          "output_type": "stream",
          "name": "stdout",
          "text": [
            "Accuracy: 100.0 %\n",
            "\n",
            "\n",
            "|--- feature_3 <= 1.50\n",
            "|   |--- feature_0 <= 6.50\n",
            "|   |   |--- class: 1\n",
            "|   |--- feature_0 >  6.50\n",
            "|   |   |--- feature_2 <= 4.50\n",
            "|   |   |   |--- feature_1 <= 4.50\n",
            "|   |   |   |   |--- class: 0\n",
            "|   |   |   |--- feature_1 >  4.50\n",
            "|   |   |   |   |--- class: 1\n",
            "|   |   |--- feature_2 >  4.50\n",
            "|   |   |   |--- feature_1 <= 7.50\n",
            "|   |   |   |   |--- class: 1\n",
            "|   |   |   |--- feature_1 >  7.50\n",
            "|   |   |   |   |--- class: 0\n",
            "|--- feature_3 >  1.50\n",
            "|   |--- class: 2\n",
            "\n"
          ]
        }
      ]
    }
  ]
}