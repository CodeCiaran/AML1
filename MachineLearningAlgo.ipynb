{
  "nbformat": 4,
  "nbformat_minor": 0,
  "metadata": {
    "colab": {
      "name": "MachineLearningAlgo.ipynb",
      "provenance": [],
      "collapsed_sections": []
    },
    "kernelspec": {
      "name": "python3",
      "display_name": "Python 3"
    },
    "language_info": {
      "name": "python"
    }
  },
  "cells": [
    {
      "cell_type": "code",
      "execution_count": 1,
      "metadata": {
        "id": "HQ20dc9lLW7G"
      },
      "outputs": [],
      "source": [
        "# Stop warning\n",
        "import warnings\n",
        "warnings.filterwarnings('ignore')"
      ]
    },
    {
      "cell_type": "markdown",
      "source": [
        "# **Logistic Regression**"
      ],
      "metadata": {
        "id": "1-ldkT6YL-pt"
      }
    },
    {
      "cell_type": "code",
      "source": [
        "from pandas import read_csv\n",
        "import pandas as pd\n",
        "import matplotlib.pyplot as plt\n",
        "\n",
        "# sklearn 10FCV\n",
        "from sklearn.model_selection import KFold\n",
        "from sklearn.model_selection import cross_val_score\n",
        "\n",
        "\n",
        "from sklearn.linear_model import LogisticRegression\n",
        "\n",
        "\n",
        "filename = 'pima-indians-diabetes.csv'\n",
        "colNames = ['preg', 'plas', 'pres', 'skin', 'test', 'mass', 'pedi', 'age', 'class']\n",
        "dataframe = read_csv(filename, names=colNames)\n",
        "array = dataframe.values\n",
        "\n",
        "attributes = array[:,0:8]\n",
        "classLabels = array[:,8]\n",
        "\n",
        "# Folds and seed\n",
        "num_folds = 10\n",
        "seed = 1\n",
        "\n",
        "print(\"Logistic regression:\\n------------------------------------\")\n",
        "kfold = KFold(n_splits=num_folds, shuffle = True, random_state=seed)\n",
        "model = LogisticRegression()\n",
        "\n",
        "results = cross_val_score(model, attributes, classLabels, cv=kfold)\n",
        "print(\"Accuracy:\", round(results.mean()*100.0,2))\n",
        "\n",
        "\n",
        "model.fit(attributes,classLabels)\n",
        "unsceenData = [[8,183,64,0,0,23.3,0.672,32]]\n",
        "\n",
        "result = model.predict(unsceenData)\n",
        "print(\"Predicted value:\",  result[0])"
      ],
      "metadata": {
        "colab": {
          "base_uri": "https://localhost:8080/"
        },
        "id": "-VGubpPMNF8w",
        "outputId": "97ce9813-73e1-40a2-a38d-bfc3f37a7ec1"
      },
      "execution_count": 3,
      "outputs": [
        {
          "output_type": "stream",
          "name": "stdout",
          "text": [
            "Logistic regression:\n",
            "------------------------------------\n",
            "Accuracy: 77.21\n",
            "Predicted value: 1.0\n"
          ]
        }
      ]
    },
    {
      "cell_type": "markdown",
      "source": [
        "# **Support Vector Machine**"
      ],
      "metadata": {
        "id": "J0232rERNbk-"
      }
    },
    {
      "cell_type": "code",
      "source": [
        "from pandas import read_csv\n",
        "import pandas as pd\n",
        "import matplotlib.pyplot as plt\n",
        "\n",
        "# sklearn 10FCV\n",
        "from sklearn.model_selection import KFold\n",
        "from sklearn.model_selection import cross_val_score\n",
        "\n",
        "\n",
        "from sklearn import svm\n",
        "\n",
        "\n",
        "filename = 'pima-indians-diabetes.csv'\n",
        "colNames = ['preg', 'plas', 'pres', 'skin', 'test', 'mass', 'pedi', 'age', 'class']\n",
        "dataframe = read_csv(filename, names=colNames)\n",
        "array = dataframe.values\n",
        "\n",
        "attributes = array[:,0:8]\n",
        "classLabels = array[:,8]\n",
        "\n",
        "# Folds and seed\n",
        "num_folds = 10\n",
        "seed = 1\n",
        "\n",
        "print(\"SVM:\\n------------------------------------\")\n",
        "kfold = KFold(n_splits=num_folds, shuffle = True, random_state=seed)\n",
        "model = svm.SVC(kernel='linear')\n",
        "results = cross_val_score(model, attributes, classLabels, cv=kfold)\n",
        "print(\"Accuracy:\", round(results.mean()*100.0,2))\n",
        "\n",
        "\n",
        "model.fit(attributes,classLabels)\n",
        "unsceenData = [[8,183,64,0,0,23.3,0.672,32]]\n",
        "\n",
        "result = model.predict(unsceenData)\n",
        "print(\"Predicted value:\",  result[0])"
      ],
      "metadata": {
        "colab": {
          "base_uri": "https://localhost:8080/"
        },
        "id": "Nmb3s_NDNaMY",
        "outputId": "e747745c-7c6b-43b3-cf44-89eb91ff6878"
      },
      "execution_count": 4,
      "outputs": [
        {
          "output_type": "stream",
          "name": "stdout",
          "text": [
            "SVM:\n",
            "------------------------------------\n",
            "Accuracy: 76.69\n",
            "Predicted value: 1.0\n"
          ]
        }
      ]
    },
    {
      "cell_type": "markdown",
      "source": [
        "# **KNN**"
      ],
      "metadata": {
        "id": "7VSxz0-uNwk5"
      }
    },
    {
      "cell_type": "code",
      "source": [
        "from pandas import read_csv\n",
        "import pandas as pd\n",
        "import matplotlib.pyplot as plt\n",
        "\n",
        "# sklearn 10FCV\n",
        "from sklearn.model_selection import KFold\n",
        "from sklearn.model_selection import cross_val_score\n",
        "\n",
        "from sklearn.neighbors import KNeighborsClassifier\n",
        "\n",
        "\n",
        "filename = 'pima-indians-diabetes.csv'\n",
        "colNames = ['preg', 'plas', 'pres', 'skin', 'test', 'mass', 'pedi', 'age', 'class']\n",
        "dataframe = read_csv(filename, names=colNames)\n",
        "array = dataframe.values\n",
        "\n",
        "attributes = array[:,0:8]\n",
        "classLabels = array[:,8]\n",
        "\n",
        "# Folds and seed\n",
        "num_folds = 10\n",
        "seed = 1\n",
        "\n",
        "# Initial test\n",
        "print(\"KNN:\\n------------------------------------\")\n",
        "kfold = KFold(n_splits=num_folds, shuffle = True, random_state=seed)\n",
        "\n",
        "model = KNeighborsClassifier(n_neighbors=3)\n",
        "results = cross_val_score(model, attributes, classLabels, cv=kfold)\n",
        "print(\"Accuracy:\", round(results.mean()*100.0,2))\n",
        "\n",
        "\n",
        "\n",
        "model.fit(attributes, classLabels)\n",
        "unsceenData = [[8,183,64,0,0,23.3,0.672,32]]\n",
        "\n",
        "result = model.predict(unsceenData)\n",
        "print(\"Predicted value:\",  result[0])"
      ],
      "metadata": {
        "colab": {
          "base_uri": "https://localhost:8080/"
        },
        "id": "4LRe94xINxgV",
        "outputId": "6f6043b8-eff8-43ed-d493-3789a762832a"
      },
      "execution_count": 5,
      "outputs": [
        {
          "output_type": "stream",
          "name": "stdout",
          "text": [
            "KNN:\n",
            "------------------------------------\n",
            "Accuracy: 69.0\n",
            "Predicted value: 1.0\n"
          ]
        }
      ]
    },
    {
      "cell_type": "markdown",
      "source": [
        "# **Decision tree**"
      ],
      "metadata": {
        "id": "-90-VB0uN0kx"
      }
    },
    {
      "cell_type": "code",
      "source": [
        "from pandas import read_csv\n",
        "import pandas as pd\n",
        "import matplotlib.pyplot as plt\n",
        "\n",
        "# sklearn 10FCV\n",
        "from sklearn.model_selection import KFold\n",
        "from sklearn.model_selection import cross_val_score\n",
        "\n",
        "from sklearn.tree import DecisionTreeClassifier\n",
        "from sklearn import tree\n",
        "\n",
        "\n",
        "filename = 'pima-indians-diabetes.csv'\n",
        "colNames = ['preg', 'plas', 'pres', 'skin', 'test', 'mass', 'pedi', 'age', 'class']\n",
        "dataframe = read_csv(filename, names=colNames)\n",
        "array = dataframe.values\n",
        "\n",
        "attributes = array[:,0:8]\n",
        "classLabels = array[:,8]\n",
        "\n",
        "# Folds and seed\n",
        "num_folds = 10\n",
        "seed = 1\n",
        "\n",
        "# Initial test\n",
        "print(\"Decision Tree:\\n------------------------------------\")\n",
        "kfold = KFold(n_splits=num_folds, shuffle = True, random_state=seed)\n",
        "model = DecisionTreeClassifier()\n",
        "results = cross_val_score(model, attributes, classLabels, cv=kfold)\n",
        "print(\"Accuracy:\", round(results.mean()*100.0,2))\n",
        "\n",
        "\n",
        "\n",
        "model.fit(attributes, classLabels)\n",
        "unsceenData = [[8,183,64,0,0,23.3,0.672,32]]\n",
        "\n",
        "result = model.predict(unsceenData)\n",
        "print(\"Predicted value:\",  result[0], \"\\n\\n\")"
      ],
      "metadata": {
        "colab": {
          "base_uri": "https://localhost:8080/"
        },
        "id": "NRvXwOBcN5m6",
        "outputId": "fcf6f890-8e97-442c-d07f-493faf02d4f5"
      },
      "execution_count": 6,
      "outputs": [
        {
          "output_type": "stream",
          "name": "stdout",
          "text": [
            "Decision Tree:\n",
            "------------------------------------\n",
            "Accuracy: 70.69\n",
            "Predicted value: 1.0 \n",
            "\n",
            "\n"
          ]
        }
      ]
    },
    {
      "cell_type": "markdown",
      "source": [
        "# **Naive Bayes**"
      ],
      "metadata": {
        "id": "3CK9CaorN_wU"
      }
    },
    {
      "cell_type": "code",
      "source": [
        "from pandas import read_csv\n",
        "import pandas as pd\n",
        "import matplotlib.pyplot as plt\n",
        "\n",
        "# sklearn 10FCV\n",
        "from sklearn.model_selection import KFold\n",
        "from sklearn.model_selection import cross_val_score\n",
        "\n",
        "\n",
        "from sklearn.naive_bayes import GaussianNB\n",
        "\n",
        "\n",
        "filename = 'pima-indians-diabetes.csv'\n",
        "colNames = ['preg', 'plas', 'pres', 'skin', 'test', 'mass', 'pedi', 'age', 'class']\n",
        "dataframe = read_csv(filename, names=colNames)\n",
        "array = dataframe.values\n",
        "\n",
        "attributes = array[:,0:8]\n",
        "classLabels = array[:,8]\n",
        "\n",
        "# Folds and seed\n",
        "num_folds = 10\n",
        "seed = 1\n",
        "\n",
        "print(\"naive Bayes:\\n------------------------------------\")\n",
        "kfold = KFold(n_splits=num_folds, shuffle = True, random_state=seed)\n",
        "model = GaussianNB()\n",
        "results = cross_val_score(model, attributes, classLabels, cv=kfold)\n",
        "print(\"Accuracy:\", round(results.mean()*100.0,2))\n",
        "\n",
        "\n",
        "model.fit(attributes,classLabels)\n",
        "unsceenData = [[8,183,64,0,0,23.3,0.672,32]]\n",
        "\n",
        "result = model.predict(unsceenData)\n",
        "print(\"Predicted value:\",  result[0])"
      ],
      "metadata": {
        "colab": {
          "base_uri": "https://localhost:8080/"
        },
        "id": "k1zcC4L8N-a2",
        "outputId": "17246314-16ec-4221-b396-c1edb254731b"
      },
      "execution_count": 7,
      "outputs": [
        {
          "output_type": "stream",
          "name": "stdout",
          "text": [
            "naive Bayes:\n",
            "------------------------------------\n",
            "Accuracy: 75.65\n",
            "Predicted value: 1.0\n"
          ]
        }
      ]
    },
    {
      "cell_type": "markdown",
      "source": [
        "# **K-Means**"
      ],
      "metadata": {
        "id": "mrHz1DTzOJvw"
      }
    },
    {
      "cell_type": "code",
      "source": [
        "from pandas import read_csv\n",
        "import pandas as pd\n",
        "import matplotlib.pyplot as plt\n",
        "import numpy as np\n",
        "\n",
        "# sklearn 10FCV\n",
        "from sklearn.model_selection import KFold\n",
        "from sklearn.model_selection import cross_val_score\n",
        "\n",
        "from scipy.spatial.distance import cdist\n",
        "from sklearn.cluster import KMeans\n",
        "\n",
        "\n",
        "filename = 'pima-indians-diabetes.csv'\n",
        "colNames = ['preg', 'plas', 'pres', 'skin', 'test', 'mass', 'pedi', 'age', 'class']\n",
        "dataframe = read_csv(filename, names=colNames)\n",
        "\n",
        "\n",
        "# using two columns\n",
        "attributes = dataframe[[\"mass\", \"age\"]].values\n",
        "\n",
        "\n",
        "print(\"K-means:\\n------------------------------------\")\n",
        "model = KMeans(n_clusters=2)\n",
        "model.fit(attributes)\n",
        "\n",
        "unsceenData = [[4, 50]]\n",
        "\n",
        "result = model.predict(unsceenData)\n",
        "print(\"Predicted value:\",  result[0])\n",
        "\n",
        "\n",
        "\n",
        "# Plotting clusters\n",
        "cen = model.cluster_centers_\n",
        "plt.scatter(attributes[ : , 0], attributes[ : , 1], s =50, c='b')\n",
        "plt.scatter(cen[0][0], cen[0][1], s=200, c='y', marker='s')\n",
        "plt.scatter(cen[1][0], cen[1][1], s=200, c='r', marker='s')\n",
        "plt.show()\n",
        "\n",
        "# cluster labels and saving\n",
        "print(model.labels_)\n",
        "attOut = pd.DataFrame(attributes)\n",
        "classOut = pd.DataFrame(model.labels_)\n",
        "outData = pd.concat([attOut, classOut], axis=1, sort=False)\n",
        "outData.to_csv(\"dataClusters.csv\",header=False, index = False)\n",
        "\n",
        "\n",
        "# elbow method\n",
        "distance = list()\n",
        "n_cluster = range(2,30)\n",
        "for n in n_cluster:\n",
        "    model = KMeans(n_clusters=n)\n",
        "    model.fit(attributes)\n",
        "    distance.append(np.average(np.min(cdist(attributes, model.cluster_centers_, 'euclidean'), axis=1)))\n",
        "\n",
        "plt.plot(n_cluster, distance)\n",
        "plt.xlabel(\"Number of clusters\")\n",
        "plt.ylabel(\"centroid distance\")\n",
        "plt.title('elbow curve')\n",
        "plt.show()"
      ],
      "metadata": {
        "colab": {
          "base_uri": "https://localhost:8080/",
          "height": 960
        },
        "id": "jNe3vJXWOL1R",
        "outputId": "9b9c1d3e-eae7-4a1d-fa78-b255badcd7ac"
      },
      "execution_count": 8,
      "outputs": [
        {
          "output_type": "stream",
          "name": "stdout",
          "text": [
            "K-means:\n",
            "------------------------------------\n",
            "Predicted value: 1\n"
          ]
        },
        {
          "output_type": "display_data",
          "data": {
            "image/png": "[encoded data removed]",
            "text/plain": [
              "<Figure size 432x288 with 1 Axes>"
            ]
          },
          "metadata": {
            "needs_background": "light"
          }
        },
        {
          "output_type": "stream",
          "name": "stdout",
          "text": [
            "[1 0 0 0 0 0 0 0 1 1 0 0 1 1 1 0 0 0 0 0 0 1 1 0 1 1 1 0 1 1 1 0 0 0 1 0 0\n",
            " 1 0 1 0 1 1 1 1 0 0 0 0 0 0 0 0 1 1 0 1 0 1 0 0 1 0 0 1 0 1 1 0 0 0 0 1 0\n",
            " 0 0 1 0 0 0 0 0 0 0 1 0 1 0 1 0 0 0 1 1 0 1 0 0 0 0 0 0 0 0 0 0 0 0 0 0 0\n",
            " 1 0 0 1 1 1 0 0 0 0 0 0 1 0 0 0 0 1 1 0 0 0 1 0 0 0 0 0 0 1 1 0 1 0 0 1 0\n",
            " 1 0 0 0 1 0 1 1 0 0 0 1 0 1 0 0 0 1 0 0 0 0 0 0 0 0 0 0 1 0 1 1 0 0 0 0 1\n",
            " 1 1 0 0 0 0 1 0 1 1 0 0 0 0 0 0 0 0 0 1 0 1 1 0 1 0 0 1 0 0 1 0 0 0 1 0 1\n",
            " 0 1 0 0 0 0 0 0 0 1 0 0 0 0 1 0 0 0 0 0 0 0 0 1 1 0 0 0 1 0 0 0 1 0 0 0 0\n",
            " 1 0 0 0 1 0 1 0 0 0 0 1 0 1 0 1 0 0 0 1 0 0 1 0 1 1 1 0 0 0 0 0 0 0 0 1 0\n",
            " 0 0 1 1 0 0 0 0 0 0 1 0 0 0 1 0 0 0 1 0 0 0 0 1 0 0 0 1 0 0 0 1 0 0 1 0 1\n",
            " 1 0 0 1 1 0 1 0 0 0 0 1 1 0 0 0 1 0 0 1 0 0 1 0 1 1 0 0 1 1 1 0 0 0 0 0 1\n",
            " 0 0 0 0 0 1 0 0 0 0 0 0 0 0 0 0 0 1 1 0 1 0 0 0 0 0 1 0 0 0 0 1 0 1 1 0 1\n",
            " 0 1 0 0 0 0 0 0 0 0 1 0 0 0 0 0 0 0 0 0 1 0 1 0 1 0 0 0 0 1 0 0 0 1 0 0 0\n",
            " 0 0 0 0 0 0 0 0 0 1 0 1 1 0 1 1 1 0 1 0 0 0 0 0 1 0 0 0 0 1 0 1 0 0 1 1 0\n",
            " 0 0 0 0 0 0 1 0 1 0 1 0 1 0 1 0 0 1 1 0 0 1 1 1 1 0 0 0 1 1 0 1 0 0 0 1 1\n",
            " 1 1 0 0 0 1 0 0 0 0 0 0 0 0 0 0 0 0 1 1 0 0 1 0 1 0 0 1 1 0 1 0 0 0 1 0 0\n",
            " 0 0 1 1 0 1 0 0 0 0 0 0 1 0 0 1 0 0 0 0 0 0 0 0 1 0 0 1 1 1 0 1 0 1 0 1 0\n",
            " 1 0 0 0 1 0 1 0 0 0 0 1 0 0 0 0 0 0 0 0 1 0 1 0 0 0 1 0 0 0 1 0 0 0 0 0 1\n",
            " 0 0 0 0 0 0 1 1 0 0 0 0 0 1 0 0 0 0 0 1 0 0 0 0 0 0 0 0 1 1 0 1 0 1 1 1 0\n",
            " 1 1 1 1 1 0 1 0 1 0 1 0 0 0 0 0 0 0 1 0 0 0 0 1 0 1 0 1 0 1 0 0 0 0 0 1 1\n",
            " 1 0 0 0 0 1 0 0 1 1 0 0 0 0 1 0 1 0 0 1 1 1 1 0 0 0 0 0 0 0 0 1 0 0 1 0 1\n",
            " 1 0 0 1 1 1 0 0 0 1 0 0 0 0 1 1 1 1 0 1 0 1 0 1 0 0 1 0]\n"
          ]
        },
        {
          "output_type": "display_data",
          "data": {
            "image/png": "[encoded data removed]",
            "text/plain": [
              "<Figure size 432x288 with 1 Axes>"
            ]
          },
          "metadata": {
            "needs_background": "light"
          }
        }
      ]
    },
    {
      "cell_type": "markdown",
      "source": [
        "# **ANN**"
      ],
      "metadata": {
        "id": "3TjRYl1ZOSA1"
      }
    },
    {
      "cell_type": "code",
      "source": [
        "import tensorflow as tf\n",
        "from tensorflow import keras\n",
        "from tensorflow.keras.models import Sequential\n",
        "from tensorflow.keras.layers import Dense\n",
        "import matplotlib.pyplot as plt\n",
        "\n",
        "filename = 'pima-indians-diabetes.csv'\n",
        "colNames = ['preg', 'plas', 'pres', 'skin', 'test', 'mass', 'pedi', 'age', 'class']\n",
        "dataframe = read_csv(filename, names=colNames)\n",
        "array = dataframe.values\n",
        "\n",
        "attributes = array[:,0:8]\n",
        "classLabels = array[:,8]\n",
        "\n",
        "model = Sequential()\n",
        "model.add(Dense(50, input_dim=8, activation='sigmoid'))\n",
        "model.add(Dense(1, activation='sigmoid'))\n",
        "model.compile(loss='binary_crossentropy', optimizer='sgd',metrics=['acc'])\n",
        "\n",
        "\n",
        "results = model.fit(attributes, classLabels, epochs=50, verbose =1)\n",
        "plt.plot(results.history[\"acc\"])\n",
        "plt.show()\n",
        "\n",
        "\n",
        "unsceenData = [[8,183,64,0,0,23.3,0.672,32]]\n",
        "\n",
        "result = model.predict(unseenData)\n",
        "print(\"Predicted value:\", result[0])\n",
        "\n",
        "result = model.predict_classes(unseenData)\n",
        "print(\"Predicted class:\", result[0])"
      ],
      "metadata": {
        "colab": {
          "base_uri": "https://localhost:8080/",
          "height": 1000
        },
        "id": "TetJfJ8mOT6_",
        "outputId": "0b6e2776-d859-4603-8c4d-08e8f2a4b143"
      },
      "execution_count": 11,
      "outputs": [
        {
          "output_type": "stream",
          "name": "stdout",
          "text": [
            "Epoch 1/50\n",
            "24/24 [==============================] - 0s 1ms/step - loss: 0.6592 - acc: 0.6237\n",
            "Epoch 2/50\n",
            "24/24 [==============================] - 0s 1ms/step - loss: 0.6281 - acc: 0.6510\n",
            "Epoch 3/50\n",
            "24/24 [==============================] - 0s 1ms/step - loss: 0.6226 - acc: 0.6589\n",
            "Epoch 4/50\n",
            "24/24 [==============================] - 0s 996us/step - loss: 0.6205 - acc: 0.6510\n",
            "Epoch 5/50\n",
            "24/24 [==============================] - 0s 995us/step - loss: 0.6180 - acc: 0.6510\n",
            "Epoch 6/50\n",
            "24/24 [==============================] - 0s 947us/step - loss: 0.6123 - acc: 0.6497\n",
            "Epoch 7/50\n",
            "24/24 [==============================] - 0s 932us/step - loss: 0.6079 - acc: 0.6523\n",
            "Epoch 8/50\n",
            "24/24 [==============================] - 0s 984us/step - loss: 0.6069 - acc: 0.6576\n",
            "Epoch 9/50\n",
            "24/24 [==============================] - 0s 1ms/step - loss: 0.6041 - acc: 0.6576\n",
            "Epoch 10/50\n",
            "24/24 [==============================] - 0s 945us/step - loss: 0.6017 - acc: 0.6641\n",
            "Epoch 11/50\n",
            "24/24 [==============================] - 0s 1ms/step - loss: 0.6000 - acc: 0.6732\n",
            "Epoch 12/50\n",
            "24/24 [==============================] - 0s 1ms/step - loss: 0.5984 - acc: 0.6719\n",
            "Epoch 13/50\n",
            "24/24 [==============================] - 0s 1ms/step - loss: 0.5969 - acc: 0.6732\n",
            "Epoch 14/50\n",
            "24/24 [==============================] - 0s 1ms/step - loss: 0.5947 - acc: 0.6745\n",
            "Epoch 15/50\n",
            "24/24 [==============================] - 0s 1ms/step - loss: 0.5938 - acc: 0.6706\n",
            "Epoch 16/50\n",
            "24/24 [==============================] - 0s 1ms/step - loss: 0.5930 - acc: 0.6758\n",
            "Epoch 17/50\n",
            "24/24 [==============================] - 0s 1ms/step - loss: 0.5916 - acc: 0.6862\n",
            "Epoch 18/50\n",
            "24/24 [==============================] - 0s 1ms/step - loss: 0.5884 - acc: 0.6758\n",
            "Epoch 19/50\n",
            "24/24 [==============================] - 0s 1ms/step - loss: 0.5859 - acc: 0.6810\n",
            "Epoch 20/50\n",
            "24/24 [==============================] - 0s 917us/step - loss: 0.5857 - acc: 0.6875\n",
            "Epoch 21/50\n",
            "24/24 [==============================] - 0s 949us/step - loss: 0.5868 - acc: 0.6888\n",
            "Epoch 22/50\n",
            "24/24 [==============================] - 0s 1ms/step - loss: 0.5851 - acc: 0.6849\n",
            "Epoch 23/50\n",
            "24/24 [==============================] - 0s 1ms/step - loss: 0.5840 - acc: 0.6823\n",
            "Epoch 24/50\n",
            "24/24 [==============================] - 0s 956us/step - loss: 0.5838 - acc: 0.6836\n",
            "Epoch 25/50\n",
            "24/24 [==============================] - 0s 1ms/step - loss: 0.5828 - acc: 0.6836\n",
            "Epoch 26/50\n",
            "24/24 [==============================] - 0s 951us/step - loss: 0.5822 - acc: 0.6823\n",
            "Epoch 27/50\n",
            "24/24 [==============================] - 0s 1ms/step - loss: 0.5799 - acc: 0.6901\n",
            "Epoch 28/50\n",
            "24/24 [==============================] - 0s 973us/step - loss: 0.5819 - acc: 0.6940\n",
            "Epoch 29/50\n",
            "24/24 [==============================] - 0s 1ms/step - loss: 0.5802 - acc: 0.6966\n",
            "Epoch 30/50\n",
            "24/24 [==============================] - 0s 1ms/step - loss: 0.5736 - acc: 0.7083\n",
            "Epoch 31/50\n",
            "24/24 [==============================] - 0s 930us/step - loss: 0.5776 - acc: 0.7057\n",
            "Epoch 32/50\n",
            "24/24 [==============================] - 0s 992us/step - loss: 0.5776 - acc: 0.7031\n",
            "Epoch 33/50\n",
            "24/24 [==============================] - 0s 1ms/step - loss: 0.5769 - acc: 0.6914\n",
            "Epoch 34/50\n",
            "24/24 [==============================] - 0s 1ms/step - loss: 0.5752 - acc: 0.7057\n",
            "Epoch 35/50\n",
            "24/24 [==============================] - 0s 1ms/step - loss: 0.5755 - acc: 0.7044\n",
            "Epoch 36/50\n",
            "24/24 [==============================] - 0s 1ms/step - loss: 0.5727 - acc: 0.7083\n",
            "Epoch 37/50\n",
            "24/24 [==============================] - 0s 1ms/step - loss: 0.5741 - acc: 0.7057\n",
            "Epoch 38/50\n",
            "24/24 [==============================] - 0s 1ms/step - loss: 0.5759 - acc: 0.7031\n",
            "Epoch 39/50\n",
            "24/24 [==============================] - 0s 1ms/step - loss: 0.5731 - acc: 0.7096\n",
            "Epoch 40/50\n",
            "24/24 [==============================] - 0s 1ms/step - loss: 0.5719 - acc: 0.7083\n",
            "Epoch 41/50\n",
            "24/24 [==============================] - 0s 1ms/step - loss: 0.5736 - acc: 0.7096\n",
            "Epoch 42/50\n",
            "24/24 [==============================] - 0s 968us/step - loss: 0.5690 - acc: 0.7148\n",
            "Epoch 43/50\n",
            "24/24 [==============================] - 0s 1ms/step - loss: 0.5706 - acc: 0.7135\n",
            "Epoch 44/50\n",
            "24/24 [==============================] - 0s 1ms/step - loss: 0.5703 - acc: 0.7109\n",
            "Epoch 45/50\n",
            "24/24 [==============================] - 0s 1ms/step - loss: 0.5693 - acc: 0.7174\n",
            "Epoch 46/50\n",
            "24/24 [==============================] - 0s 900us/step - loss: 0.5704 - acc: 0.7201\n",
            "Epoch 47/50\n",
            "24/24 [==============================] - 0s 1ms/step - loss: 0.5698 - acc: 0.7240\n",
            "Epoch 48/50\n",
            "24/24 [==============================] - 0s 944us/step - loss: 0.5679 - acc: 0.7148\n",
            "Epoch 49/50\n",
            "24/24 [==============================] - 0s 1ms/step - loss: 0.5663 - acc: 0.7227\n",
            "Epoch 50/50\n",
            "24/24 [==============================] - 0s 1ms/step - loss: 0.5673 - acc: 0.7188\n"
          ]
        },
        {
          "output_type": "display_data",
          "data": {
            "image/png": "[encoded data removed]",
            "text/plain": [
              "<Figure size 432x288 with 1 Axes>"
            ]
          },
          "metadata": {
            "needs_background": "light"
          }
        },
        {
          "output_type": "error",
          "ename": "NameError",
          "evalue": "ignored",
          "traceback": [
            "\u001b[0;31m---------------------------------------------------------------------------\u001b[0m",
            "\u001b[0;31mNameError\u001b[0m                                 Traceback (most recent call last)",
            "\u001b[0;32m<ipython-input-11-29b969f73d36>\u001b[0m in \u001b[0;36m<module>\u001b[0;34m()\u001b[0m\n\u001b[1;32m     26\u001b[0m \u001b[0munsceenData\u001b[0m \u001b[0;34m=\u001b[0m \u001b[0;34m[\u001b[0m\u001b[0;34m[\u001b[0m\u001b[0;36m8\u001b[0m\u001b[0;34m,\u001b[0m\u001b[0;36m183\u001b[0m\u001b[0;34m,\u001b[0m\u001b[0;36m64\u001b[0m\u001b[0;34m,\u001b[0m\u001b[0;36m0\u001b[0m\u001b[0;34m,\u001b[0m\u001b[0;36m0\u001b[0m\u001b[0;34m,\u001b[0m\u001b[0;36m23.3\u001b[0m\u001b[0;34m,\u001b[0m\u001b[0;36m0.672\u001b[0m\u001b[0;34m,\u001b[0m\u001b[0;36m32\u001b[0m\u001b[0;34m]\u001b[0m\u001b[0;34m]\u001b[0m\u001b[0;34m\u001b[0m\u001b[0;34m\u001b[0m\u001b[0m\n\u001b[1;32m     27\u001b[0m \u001b[0;34m\u001b[0m\u001b[0m\n\u001b[0;32m---> 28\u001b[0;31m \u001b[0mresult\u001b[0m \u001b[0;34m=\u001b[0m \u001b[0mmodel\u001b[0m\u001b[0;34m.\u001b[0m\u001b[0mpredict\u001b[0m\u001b[0;34m(\u001b[0m\u001b[0munseenData\u001b[0m\u001b[0;34m)\u001b[0m\u001b[0;34m\u001b[0m\u001b[0;34m\u001b[0m\u001b[0m\n\u001b[0m\u001b[1;32m     29\u001b[0m \u001b[0mprint\u001b[0m\u001b[0;34m(\u001b[0m\u001b[0;34m\"Predicted value:\"\u001b[0m\u001b[0;34m,\u001b[0m \u001b[0mresult\u001b[0m\u001b[0;34m[\u001b[0m\u001b[0;36m0\u001b[0m\u001b[0;34m]\u001b[0m\u001b[0;34m)\u001b[0m\u001b[0;34m\u001b[0m\u001b[0;34m\u001b[0m\u001b[0m\n\u001b[1;32m     30\u001b[0m \u001b[0;34m\u001b[0m\u001b[0m\n",
            "\u001b[0;31mNameError\u001b[0m: name 'unseenData' is not defined"
          ]
        }
      ]
    },
    {
      "cell_type": "markdown",
      "source": [
        ""
      ],
      "metadata": {
        "id": "Ed6oBlrjOht0"
      }
    }
  ]
}